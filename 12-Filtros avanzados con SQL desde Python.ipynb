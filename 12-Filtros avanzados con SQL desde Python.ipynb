{
 "cells": [
  {
   "cell_type": "markdown",
   "id": "1b9d6e03",
   "metadata": {},
   "source": [
    "### Filtros avanzados con SQL desde Python"
   ]
  },
  {
   "cell_type": "markdown",
   "id": "e84cc708",
   "metadata": {},
   "source": [
    "#### 1. Trabajamos con SQL"
   ]
  },
  {
   "cell_type": "code",
   "execution_count": 2,
   "id": "be8426d0",
   "metadata": {},
   "outputs": [],
   "source": [
    "import pyodbc\n",
    "import pandas as pd"
   ]
  },
  {
   "cell_type": "code",
   "execution_count": 3,
   "id": "0cb9b9a8",
   "metadata": {},
   "outputs": [],
   "source": [
    "#Creamos una variable donde guardamos los datos de conexion del servidor SQL\n",
    "server =\"DESKTOP-GU4H9H0\\SQLEXPRESS\""
   ]
  },
  {
   "cell_type": "code",
   "execution_count": 4,
   "id": "41354e23",
   "metadata": {},
   "outputs": [
    {
     "name": "stdout",
     "output_type": "stream",
     "text": [
      "conexion exitosa\n"
     ]
    }
   ],
   "source": [
    "conexion =pyodbc.connect(driver='{SQL Server}', host =server, database = \"DB_PYTHON\")\n",
    "print(\"conexion exitosa\")"
   ]
  },
  {
   "cell_type": "code",
   "execution_count": 6,
   "id": "9986561b",
   "metadata": {},
   "outputs": [
    {
     "name": "stderr",
     "output_type": "stream",
     "text": [
      "C:\\Users\\pc\\anaconda3\\lib\\site-packages\\pandas\\io\\sql.py:761: UserWarning: pandas only support SQLAlchemy connectable(engine/connection) ordatabase string URI or sqlite3 DBAPI2 connectionother DBAPI2 objects are not tested, please consider using SQLAlchemy\n",
      "  warnings.warn(\n"
     ]
    }
   ],
   "source": [
    "#Buscamos al mexicano que llego antes que sus compatriotas a la meta\n",
    "\n",
    "Hombre_mex_veloz=pd.read_sql(\"SELECT Min(Tiempo) FROM MaratonNY_Python WHERE Genero='Male' AND Pais ='Mex'\", conexion)"
   ]
  },
  {
   "cell_type": "code",
   "execution_count": 11,
   "id": "1d27df53",
   "metadata": {},
   "outputs": [],
   "source": [
    "#Buscamos a las mujeres que sean mas veloces que el Mexicano que haya llegado antes que sus compatriotas a la meta\n",
    "\n",
    "Mujeres_veloces= pd.read_sql(\"SELECT Genero, Tiempo, Pais FROM MaratonNY_Python WHERE Genero='Female' AND Tiempo <= (SELECT Min(Tiempo) FROM MaratonNY_Python WHERE Genero='Male' AND Pais ='Mex')\", conexion)"
   ]
  },
  {
   "cell_type": "markdown",
   "id": "f1926f28",
   "metadata": {},
   "source": [
    "#### 3. Accedemos a los valores del dataframe con loc e iloc"
   ]
  },
  {
   "cell_type": "code",
   "execution_count": 8,
   "id": "610e267f",
   "metadata": {},
   "outputs": [
    {
     "data": {
      "text/html": [
       "<div>\n",
       "<style scoped>\n",
       "    .dataframe tbody tr th:only-of-type {\n",
       "        vertical-align: middle;\n",
       "    }\n",
       "\n",
       "    .dataframe tbody tr th {\n",
       "        vertical-align: top;\n",
       "    }\n",
       "\n",
       "    .dataframe thead th {\n",
       "        text-align: right;\n",
       "    }\n",
       "</style>\n",
       "<table border=\"1\" class=\"dataframe\">\n",
       "  <thead>\n",
       "    <tr style=\"text-align: right;\">\n",
       "      <th></th>\n",
       "      <th></th>\n",
       "    </tr>\n",
       "  </thead>\n",
       "  <tbody>\n",
       "    <tr>\n",
       "      <th>0</th>\n",
       "      <td>207.016667</td>\n",
       "    </tr>\n",
       "  </tbody>\n",
       "</table>\n",
       "</div>"
      ],
      "text/plain": [
       "             \n",
       "0  207.016667"
      ]
     },
     "execution_count": 8,
     "metadata": {},
     "output_type": "execute_result"
    }
   ],
   "source": [
    "Hombre_mex_veloz"
   ]
  },
  {
   "cell_type": "code",
   "execution_count": 9,
   "id": "93f1f81f",
   "metadata": {},
   "outputs": [
    {
     "data": {
      "text/plain": [
       "207.0166667"
      ]
     },
     "execution_count": 9,
     "metadata": {},
     "output_type": "execute_result"
    }
   ],
   "source": [
    "Hombre_mex_veloz.iloc [0][0]"
   ]
  },
  {
   "cell_type": "code",
   "execution_count": 12,
   "id": "cf8e1de4",
   "metadata": {},
   "outputs": [
    {
     "data": {
      "text/html": [
       "<div>\n",
       "<style scoped>\n",
       "    .dataframe tbody tr th:only-of-type {\n",
       "        vertical-align: middle;\n",
       "    }\n",
       "\n",
       "    .dataframe tbody tr th {\n",
       "        vertical-align: top;\n",
       "    }\n",
       "\n",
       "    .dataframe thead th {\n",
       "        text-align: right;\n",
       "    }\n",
       "</style>\n",
       "<table border=\"1\" class=\"dataframe\">\n",
       "  <thead>\n",
       "    <tr style=\"text-align: right;\">\n",
       "      <th></th>\n",
       "      <th>Genero</th>\n",
       "      <th>Tiempo</th>\n",
       "      <th>Pais</th>\n",
       "    </tr>\n",
       "  </thead>\n",
       "  <tbody>\n",
       "    <tr>\n",
       "      <th>0</th>\n",
       "      <td>Female</td>\n",
       "      <td>175.533333</td>\n",
       "      <td>NY</td>\n",
       "    </tr>\n",
       "    <tr>\n",
       "      <th>1</th>\n",
       "      <td>Female</td>\n",
       "      <td>187.733333</td>\n",
       "      <td>CA</td>\n",
       "    </tr>\n",
       "    <tr>\n",
       "      <th>2</th>\n",
       "      <td>Female</td>\n",
       "      <td>190.933333</td>\n",
       "      <td>MN</td>\n",
       "    </tr>\n",
       "    <tr>\n",
       "      <th>3</th>\n",
       "      <td>Female</td>\n",
       "      <td>193.316667</td>\n",
       "      <td>MN</td>\n",
       "    </tr>\n",
       "    <tr>\n",
       "      <th>4</th>\n",
       "      <td>Female</td>\n",
       "      <td>194.950000</td>\n",
       "      <td>NY</td>\n",
       "    </tr>\n",
       "    <tr>\n",
       "      <th>5</th>\n",
       "      <td>Female</td>\n",
       "      <td>201.350000</td>\n",
       "      <td>WA</td>\n",
       "    </tr>\n",
       "    <tr>\n",
       "      <th>6</th>\n",
       "      <td>Female</td>\n",
       "      <td>204.933333</td>\n",
       "      <td>NY</td>\n",
       "    </tr>\n",
       "  </tbody>\n",
       "</table>\n",
       "</div>"
      ],
      "text/plain": [
       "   Genero      Tiempo Pais\n",
       "0  Female  175.533333   NY\n",
       "1  Female  187.733333   CA\n",
       "2  Female  190.933333   MN\n",
       "3  Female  193.316667   MN\n",
       "4  Female  194.950000   NY\n",
       "5  Female  201.350000   WA\n",
       "6  Female  204.933333   NY"
      ]
     },
     "execution_count": 12,
     "metadata": {},
     "output_type": "execute_result"
    }
   ],
   "source": [
    "Mujeres_veloces"
   ]
  },
  {
   "cell_type": "code",
   "execution_count": null,
   "id": "ddd3434c",
   "metadata": {},
   "outputs": [],
   "source": []
  }
 ],
 "metadata": {
  "kernelspec": {
   "display_name": "Python 3 (ipykernel)",
   "language": "python",
   "name": "python3"
  },
  "language_info": {
   "codemirror_mode": {
    "name": "ipython",
    "version": 3
   },
   "file_extension": ".py",
   "mimetype": "text/x-python",
   "name": "python",
   "nbconvert_exporter": "python",
   "pygments_lexer": "ipython3",
   "version": "3.9.16"
  }
 },
 "nbformat": 4,
 "nbformat_minor": 5
}
