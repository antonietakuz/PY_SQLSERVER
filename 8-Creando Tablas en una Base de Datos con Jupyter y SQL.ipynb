{
 "cells": [
  {
   "cell_type": "markdown",
   "id": "1b62fea4",
   "metadata": {},
   "source": [
    "## Creando Tablas en una Base de Datos"
   ]
  },
  {
   "cell_type": "code",
   "execution_count": 3,
   "id": "74ad639f",
   "metadata": {},
   "outputs": [],
   "source": [
    "import pyodbc #instalamos desdel el prompt con pip intsall pyodbc"
   ]
  },
  {
   "cell_type": "code",
   "execution_count": 4,
   "id": "b4326d7f",
   "metadata": {},
   "outputs": [],
   "source": [
    "#Creamos una variable donde guardamos los datos de conexion del servidor SQL\n",
    "server =\"DESKTOP-GU4H9H0\\SQLEXPRESS\"\n"
   ]
  },
  {
   "cell_type": "code",
   "execution_count": 5,
   "id": "a7465ed2",
   "metadata": {},
   "outputs": [],
   "source": [
    "db=\"DB_PYTHON\""
   ]
  },
  {
   "cell_type": "code",
   "execution_count": 7,
   "id": "6d46c9a0",
   "metadata": {},
   "outputs": [
    {
     "name": "stdout",
     "output_type": "stream",
     "text": [
      "conexion exitosa\n"
     ]
    }
   ],
   "source": [
    "conexion =pyodbc.connect(driver='{SQL Server}', host =server, database = \"DB_PYTHON\")\n",
    "print(\"conexion exitosa\")"
   ]
  },
  {
   "cell_type": "code",
   "execution_count": 8,
   "id": "a808e773",
   "metadata": {},
   "outputs": [],
   "source": [
    "#Creamos un cursor para almacenar la informacion en memoria\n",
    "cursor= conexion.cursor()"
   ]
  },
  {
   "cell_type": "code",
   "execution_count": 10,
   "id": "867cec2f",
   "metadata": {},
   "outputs": [
    {
     "data": {
      "text/plain": [
       "<pyodbc.Cursor at 0x1702f228930>"
      ]
     },
     "execution_count": 10,
     "metadata": {},
     "output_type": "execute_result"
    }
   ],
   "source": [
    "#Indicamos lo que queremos que se lleve a cabo en memoria\n",
    "\n",
    "cursor.execute ('CREATE TABLE Ciudad (Ciudad VARCHAR(255) NOT NULL, Pais VARCHAR(100) NOT NULL, PRIMARY KEY (Ciudad))')"
   ]
  },
  {
   "cell_type": "code",
   "execution_count": 11,
   "id": "88f7c819",
   "metadata": {},
   "outputs": [],
   "source": [
    "#Creamos una lista de tuplas de ciudades y paises\n",
    "\n",
    "Varias_Ciudades =[ \n",
    "    (\"Buenos Aires\", \"Argentina\"),\n",
    "    (\"Ereván\",\"Armenia\"),\n",
    "    (\"Camberra\", \"Australia\"),\n",
    "    (\"Viena\",\"Austria\"),\n",
    "    (\"Bakú\", \"Azerbaiyán\"),\n",
    "    (\"Nasáu\", \"Bahamas\"),\n",
    "    (\"Manama\", \"Bahréin\"),\n",
    "    (\"Dhaka\", \"Bangladesh\"),\n",
    "    (\"Bridgetown\", \"Barbados\"),\n",
    "    (\"Bruselas\", \"Bélgica\"),\n",
    "    (\"Belmopán\",\"Belice\"),\n",
    "    (\"Porto-Novo\",\"Benín\"),\n",
    "    (\"Minsk\",\"Bielorrusia\"),\n",
    "    (\"Sucre\",\"Bolivia\"),\n",
    "    (\"Sarajevo\", \"Bosnia y Herzegovina\"),\n",
    "    (\"Gaborone\",\"Botsuana\"),\n",
    "    (\"Brasilia\",\"Brasil\"),\n",
    "    (\"Sofía\",\"Bulgaria\"),\n",
    "    (\"Ouagadougou\",\"Burkina Faso\"),\n",
    "    (\"Guitega/Buyumbura\",\"Burundi\"),\n",
    "    (\"Timbú\",\"Bután\"),\n",
    "    (\"Praia\",\"Cabo Verde\")\n",
    "]\n"
   ]
  },
  {
   "cell_type": "code",
   "execution_count": 13,
   "id": "fe1fae2a",
   "metadata": {},
   "outputs": [],
   "source": [
    "#Insertamos los datos en la Tabla Ciudad\n",
    "cursor.executemany('INSERT INTO Ciudad VALUES(?,?)', Varias_Ciudades)"
   ]
  },
  {
   "cell_type": "code",
   "execution_count": 14,
   "id": "a4ccd36f",
   "metadata": {},
   "outputs": [
    {
     "data": {
      "text/plain": [
       "<function Cursor.commit>"
      ]
     },
     "execution_count": 14,
     "metadata": {},
     "output_type": "execute_result"
    }
   ],
   "source": [
    "#Guardamos los cambios realizados en la Base de Datos\n",
    "cursor.commit"
   ]
  },
  {
   "cell_type": "code",
   "execution_count": 15,
   "id": "c1c5eb28",
   "metadata": {},
   "outputs": [
    {
     "data": {
      "text/plain": [
       "<function Connection.close>"
      ]
     },
     "execution_count": 15,
     "metadata": {},
     "output_type": "execute_result"
    }
   ],
   "source": [
    "#Nos aseguramos de cerrar la conexion\n",
    "conexion.close"
   ]
  },
  {
   "cell_type": "code",
   "execution_count": null,
   "id": "1451d3f4",
   "metadata": {},
   "outputs": [],
   "source": []
  }
 ],
 "metadata": {
  "kernelspec": {
   "display_name": "Python 3 (ipykernel)",
   "language": "python",
   "name": "python3"
  },
  "language_info": {
   "codemirror_mode": {
    "name": "ipython",
    "version": 3
   },
   "file_extension": ".py",
   "mimetype": "text/x-python",
   "name": "python",
   "nbconvert_exporter": "python",
   "pygments_lexer": "ipython3",
   "version": "3.9.16"
  }
 },
 "nbformat": 4,
 "nbformat_minor": 5
}
