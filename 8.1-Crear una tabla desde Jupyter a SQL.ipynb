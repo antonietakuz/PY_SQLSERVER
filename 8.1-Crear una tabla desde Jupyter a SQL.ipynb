{
 "cells": [
  {
   "cell_type": "code",
   "execution_count": 3,
   "id": "ec5afc0a",
   "metadata": {},
   "outputs": [
    {
     "name": "stdout",
     "output_type": "stream",
     "text": [
      "conexion exitosa\n"
     ]
    }
   ],
   "source": [
    "#importacion de librerias\n",
    "import pyodbc\n",
    "import pandas as pd\n",
    "from sqlalchemy import create_engine\n",
    "\n",
    "\n",
    "server =\"DESKTOP-GU4H9H0\\SQLEXPRESS\"\n",
    "conexion =pyodbc.connect(driver='{SQL Server}', host =server, database = \"test_database\")\n",
    "print(\"conexion exitosa\")\n",
    "\n"
   ]
  },
  {
   "cell_type": "code",
   "execution_count": null,
   "id": "c7c4d23f",
   "metadata": {},
   "outputs": [],
   "source": []
  },
  {
   "cell_type": "code",
   "execution_count": 5,
   "id": "6a2ece35",
   "metadata": {},
   "outputs": [],
   "source": [
    "cursor = conexion.cursor()\n",
    "\n",
    "cursor.execute('''\n",
    "CREATE TABLE products (\n",
    "    product_id int primary key,\n",
    "    product_name nvarchar(50),\n",
    "    price int)\n",
    "               ''')\n",
    "\n",
    "conexion.commit()"
   ]
  },
  {
   "cell_type": "code",
   "execution_count": 9,
   "id": "d21d4bf5",
   "metadata": {},
   "outputs": [],
   "source": [
    "cursor.execute('''\n",
    "INSERT INTO products (product_id, product_name, price)\n",
    "VALUES\n",
    "(6,'Desktop Computer',800),\n",
    "(7,'Laptop',1200),\n",
    "(8,'Tablet',200),\n",
    "(9,'Monitor',350),\n",
    "(10,'Printer',150)\n",
    "                ''')\n",
    "conexion.commit()"
   ]
  },
  {
   "cell_type": "code",
   "execution_count": 10,
   "id": "9c2de1ae",
   "metadata": {},
   "outputs": [],
   "source": [
    "conexion.close()"
   ]
  },
  {
   "cell_type": "code",
   "execution_count": null,
   "id": "d4505072",
   "metadata": {},
   "outputs": [],
   "source": []
  }
 ],
 "metadata": {
  "kernelspec": {
   "display_name": "Python 3 (ipykernel)",
   "language": "python",
   "name": "python3"
  },
  "language_info": {
   "codemirror_mode": {
    "name": "ipython",
    "version": 3
   },
   "file_extension": ".py",
   "mimetype": "text/x-python",
   "name": "python",
   "nbconvert_exporter": "python",
   "pygments_lexer": "ipython3",
   "version": "3.9.16"
  }
 },
 "nbformat": 4,
 "nbformat_minor": 5
}
