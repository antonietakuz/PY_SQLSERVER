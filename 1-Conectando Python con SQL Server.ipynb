{
 "cells": [
  {
   "cell_type": "markdown",
   "id": "bea35a42",
   "metadata": {},
   "source": [
    "## Conectando Python con SQL Server"
   ]
  },
  {
   "cell_type": "code",
   "execution_count": 1,
   "id": "e78db178",
   "metadata": {},
   "outputs": [],
   "source": [
    "#importacion de librerias\n",
    "import pyodbc\n",
    "import pandas as pd\n"
   ]
  },
  {
   "cell_type": "code",
   "execution_count": 5,
   "id": "6f6df8d9",
   "metadata": {},
   "outputs": [
    {
     "name": "stdout",
     "output_type": "stream",
     "text": [
      "conexion exitosa\n"
     ]
    }
   ],
   "source": [
    "#abrimos la conexion a la base de datos\n",
    "\n",
    "server =\"DESKTOP-GU4H9H0\\SQLEXPRESS\"\n",
    "conexion =pyodbc.connect(driver='{SQL Server}', host =server)\n",
    "print(\"conexion exitosa\")"
   ]
  },
  {
   "cell_type": "code",
   "execution_count": 6,
   "id": "6d06f77a",
   "metadata": {},
   "outputs": [],
   "source": [
    "#creamos un cursor para almacenar la informacion en memoria\n",
    "cursor = conexion.cursor()"
   ]
  },
  {
   "cell_type": "code",
   "execution_count": 7,
   "id": "e0341587",
   "metadata": {},
   "outputs": [
    {
     "data": {
      "text/plain": [
       "<pyodbc.Cursor at 0x26eab9b4e30>"
      ]
     },
     "execution_count": 7,
     "metadata": {},
     "output_type": "execute_result"
    }
   ],
   "source": [
    "#indicamos lo que queremos que se lleve a cabo en memoria\n",
    "#Asegurandonos de que la base de datos que queremos crear no exista\n",
    "cursor.execute(\"CREATE DATABASE DB_PYTHON\")"
   ]
  },
  {
   "cell_type": "code",
   "execution_count": 8,
   "id": "b44b1bea",
   "metadata": {},
   "outputs": [],
   "source": [
    "#cerramos la conexion\n",
    "\n",
    "conexion.close()"
   ]
  },
  {
   "cell_type": "code",
   "execution_count": null,
   "id": "8e3c6bf0",
   "metadata": {},
   "outputs": [],
   "source": []
  }
 ],
 "metadata": {
  "kernelspec": {
   "display_name": "Python 3 (ipykernel)",
   "language": "python",
   "name": "python3"
  },
  "language_info": {
   "codemirror_mode": {
    "name": "ipython",
    "version": 3
   },
   "file_extension": ".py",
   "mimetype": "text/x-python",
   "name": "python",
   "nbconvert_exporter": "python",
   "pygments_lexer": "ipython3",
   "version": "3.9.16"
  }
 },
 "nbformat": 4,
 "nbformat_minor": 5
}
