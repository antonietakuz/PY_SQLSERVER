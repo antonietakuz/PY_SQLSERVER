{
 "cells": [
  {
   "cell_type": "markdown",
   "id": "8c76c4ed",
   "metadata": {},
   "source": [
    "## Filtrando Información con SQL desde Python"
   ]
  },
  {
   "cell_type": "code",
   "execution_count": 7,
   "id": "c07bec58",
   "metadata": {},
   "outputs": [],
   "source": [
    "#importacion de librerias\n",
    "import pyodbc\n",
    "import pandas as pd\n",
    "from sqlalchemy import create_engine"
   ]
  },
  {
   "cell_type": "code",
   "execution_count": null,
   "id": "07e38647",
   "metadata": {},
   "outputs": [],
   "source": [
    "pip install --upgrade pyodbc"
   ]
  },
  {
   "cell_type": "code",
   "execution_count": 3,
   "id": "2c176753",
   "metadata": {},
   "outputs": [
    {
     "name": "stdout",
     "output_type": "stream",
     "text": [
      "conexion exitosa\n"
     ]
    }
   ],
   "source": [
    "#abrimos la conexion a la base de datos\n",
    "\n",
    "server =\"DESKTOP-GU4H9H0\\SQLEXPRESS\"\n",
    "conexion =pyodbc.connect(driver='{SQL Server}', host =server, database = \"DB_PYTHON\")\n",
    "print(\"conexion exitosa\")"
   ]
  },
  {
   "cell_type": "code",
   "execution_count": 10,
   "id": "e9ff4532",
   "metadata": {},
   "outputs": [],
   "source": [
    "#creamos un cursor para almacenar la informacion en memoria\n",
    "cursor = conexion.cursor()"
   ]
  },
  {
   "cell_type": "code",
   "execution_count": 12,
   "id": "891916d7",
   "metadata": {},
   "outputs": [
    {
     "name": "stderr",
     "output_type": "stream",
     "text": [
      "C:\\Users\\pc\\anaconda3\\lib\\site-packages\\pandas\\io\\sql.py:761: UserWarning: pandas only support SQLAlchemy connectable(engine/connection) ordatabase string URI or sqlite3 DBAPI2 connectionother DBAPI2 objects are not tested, please consider using SQLAlchemy\n",
      "  warnings.warn(\n"
     ]
    }
   ],
   "source": [
    "#Filtramos la informacion utilizando SQL\n",
    "\n",
    "ventas = pd.read_sql(\"SELECT Nombre FROM VENTAS\", conexion)"
   ]
  },
  {
   "cell_type": "code",
   "execution_count": 13,
   "id": "5912289b",
   "metadata": {},
   "outputs": [],
   "source": [
    "ventas_filtrada = pd.DataFrame(ventas)"
   ]
  },
  {
   "cell_type": "code",
   "execution_count": 14,
   "id": "1b970974",
   "metadata": {},
   "outputs": [],
   "source": [
    "conexion.close()"
   ]
  },
  {
   "cell_type": "code",
   "execution_count": 15,
   "id": "2d8eae35",
   "metadata": {},
   "outputs": [
    {
     "data": {
      "text/html": [
       "<div>\n",
       "<style scoped>\n",
       "    .dataframe tbody tr th:only-of-type {\n",
       "        vertical-align: middle;\n",
       "    }\n",
       "\n",
       "    .dataframe tbody tr th {\n",
       "        vertical-align: top;\n",
       "    }\n",
       "\n",
       "    .dataframe thead th {\n",
       "        text-align: right;\n",
       "    }\n",
       "</style>\n",
       "<table border=\"1\" class=\"dataframe\">\n",
       "  <thead>\n",
       "    <tr style=\"text-align: right;\">\n",
       "      <th></th>\n",
       "      <th>Nombre</th>\n",
       "    </tr>\n",
       "  </thead>\n",
       "  <tbody>\n",
       "    <tr>\n",
       "      <th>0</th>\n",
       "      <td>MONTERO WALTER GUILLERMO</td>\n",
       "    </tr>\n",
       "    <tr>\n",
       "      <th>1</th>\n",
       "      <td>MONTERO WALTER GUILLERMO</td>\n",
       "    </tr>\n",
       "    <tr>\n",
       "      <th>2</th>\n",
       "      <td>MONTERO WALTER GUILLERMO</td>\n",
       "    </tr>\n",
       "    <tr>\n",
       "      <th>3</th>\n",
       "      <td>MONTERO WALTER GUILLERMO</td>\n",
       "    </tr>\n",
       "    <tr>\n",
       "      <th>4</th>\n",
       "      <td>MONTERO WALTER GUILLERMO</td>\n",
       "    </tr>\n",
       "    <tr>\n",
       "      <th>...</th>\n",
       "      <td>...</td>\n",
       "    </tr>\n",
       "    <tr>\n",
       "      <th>65529</th>\n",
       "      <td>C&amp;H ALARMAS SRL</td>\n",
       "    </tr>\n",
       "    <tr>\n",
       "      <th>65530</th>\n",
       "      <td>C&amp;H ALARMAS SRL</td>\n",
       "    </tr>\n",
       "    <tr>\n",
       "      <th>65531</th>\n",
       "      <td>C&amp;H ALARMAS SRL</td>\n",
       "    </tr>\n",
       "    <tr>\n",
       "      <th>65532</th>\n",
       "      <td>C&amp;H ALARMAS SRL</td>\n",
       "    </tr>\n",
       "    <tr>\n",
       "      <th>65533</th>\n",
       "      <td>TOMASSICH CLAUDIO</td>\n",
       "    </tr>\n",
       "  </tbody>\n",
       "</table>\n",
       "<p>65534 rows × 1 columns</p>\n",
       "</div>"
      ],
      "text/plain": [
       "                         Nombre\n",
       "0      MONTERO WALTER GUILLERMO\n",
       "1      MONTERO WALTER GUILLERMO\n",
       "2      MONTERO WALTER GUILLERMO\n",
       "3      MONTERO WALTER GUILLERMO\n",
       "4      MONTERO WALTER GUILLERMO\n",
       "...                         ...\n",
       "65529           C&H ALARMAS SRL\n",
       "65530           C&H ALARMAS SRL\n",
       "65531           C&H ALARMAS SRL\n",
       "65532           C&H ALARMAS SRL\n",
       "65533         TOMASSICH CLAUDIO\n",
       "\n",
       "[65534 rows x 1 columns]"
      ]
     },
     "execution_count": 15,
     "metadata": {},
     "output_type": "execute_result"
    }
   ],
   "source": [
    "ventas_filtrada"
   ]
  },
  {
   "cell_type": "code",
   "execution_count": null,
   "id": "570520af",
   "metadata": {},
   "outputs": [],
   "source": []
  }
 ],
 "metadata": {
  "kernelspec": {
   "display_name": "Python 3 (ipykernel)",
   "language": "python",
   "name": "python3"
  },
  "language_info": {
   "codemirror_mode": {
    "name": "ipython",
    "version": 3
   },
   "file_extension": ".py",
   "mimetype": "text/x-python",
   "name": "python",
   "nbconvert_exporter": "python",
   "pygments_lexer": "ipython3",
   "version": "3.9.16"
  }
 },
 "nbformat": 4,
 "nbformat_minor": 5
}
