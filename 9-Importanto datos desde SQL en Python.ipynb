{
 "cells": [
  {
   "cell_type": "markdown",
   "id": "2be7745a",
   "metadata": {},
   "source": [
    "## Importando datos de SQL desde Python"
   ]
  },
  {
   "cell_type": "markdown",
   "id": "1bb79a7e",
   "metadata": {},
   "source": [
    "#### 1. Trabajamos con la informacion obtenida desde la base de datos"
   ]
  },
  {
   "cell_type": "code",
   "execution_count": 13,
   "id": "982c32f5",
   "metadata": {},
   "outputs": [],
   "source": [
    "import pyodbc #instalamos desdel el prompt con pip intsall pyodbc\n",
    "import pandas as pd"
   ]
  },
  {
   "cell_type": "code",
   "execution_count": 14,
   "id": "f89d7bc6",
   "metadata": {},
   "outputs": [],
   "source": [
    "#Creamos una variable donde guardamos los datos de conexion del servidor SQL\n",
    "server =\"DESKTOP-GU4H9H0\\SQLEXPRESS\"\n",
    "db=\"DB_PYTHON\""
   ]
  },
  {
   "cell_type": "code",
   "execution_count": 15,
   "id": "5a7dba57",
   "metadata": {},
   "outputs": [
    {
     "name": "stdout",
     "output_type": "stream",
     "text": [
      "conexion exitosa\n"
     ]
    }
   ],
   "source": [
    "conexion =pyodbc.connect(driver='{SQL Server}', host =server, database = \"DB_PYTHON\")\n",
    "print(\"conexion exitosa\")"
   ]
  },
  {
   "cell_type": "code",
   "execution_count": 16,
   "id": "bf861703",
   "metadata": {},
   "outputs": [
    {
     "name": "stderr",
     "output_type": "stream",
     "text": [
      "C:\\Users\\pc\\anaconda3\\lib\\site-packages\\pandas\\io\\sql.py:761: UserWarning: pandas only support SQLAlchemy connectable(engine/connection) ordatabase string URI or sqlite3 DBAPI2 connectionother DBAPI2 objects are not tested, please consider using SQLAlchemy\n",
      "  warnings.warn(\n"
     ]
    }
   ],
   "source": [
    "#Leemos la informacion de la tabla ciudad\n",
    "\n",
    "query = 'SELECT * FROM Exportaciones'\n",
    "df = pd.read_sql(sql=query, con=conexion)"
   ]
  },
  {
   "cell_type": "code",
   "execution_count": 17,
   "id": "47178967",
   "metadata": {},
   "outputs": [],
   "source": [
    "#Cerramos la conexion\n",
    "conexion.close()"
   ]
  },
  {
   "cell_type": "markdown",
   "id": "9f2edb0d",
   "metadata": {},
   "source": [
    "#### 2. Mostramos la informacion traida de sql"
   ]
  },
  {
   "cell_type": "code",
   "execution_count": 18,
   "id": "00f6a180",
   "metadata": {},
   "outputs": [
    {
     "data": {
      "text/html": [
       "<div>\n",
       "<style scoped>\n",
       "    .dataframe tbody tr th:only-of-type {\n",
       "        vertical-align: middle;\n",
       "    }\n",
       "\n",
       "    .dataframe tbody tr th {\n",
       "        vertical-align: top;\n",
       "    }\n",
       "\n",
       "    .dataframe thead th {\n",
       "        text-align: right;\n",
       "    }\n",
       "</style>\n",
       "<table border=\"1\" class=\"dataframe\">\n",
       "  <thead>\n",
       "    <tr style=\"text-align: right;\">\n",
       "      <th></th>\n",
       "      <th>Material</th>\n",
       "      <th>Sector</th>\n",
       "      <th>Monto_Exportacion</th>\n",
       "      <th>Pais</th>\n",
       "    </tr>\n",
       "  </thead>\n",
       "  <tbody>\n",
       "    <tr>\n",
       "      <th>0</th>\n",
       "      <td>Horses</td>\n",
       "      <td>Agriculture</td>\n",
       "      <td>12961946</td>\n",
       "      <td>Estados Unidos</td>\n",
       "    </tr>\n",
       "    <tr>\n",
       "      <th>1</th>\n",
       "      <td>Bovine</td>\n",
       "      <td>Agriculture</td>\n",
       "      <td>794762187</td>\n",
       "      <td>Estados Unidos</td>\n",
       "    </tr>\n",
       "    <tr>\n",
       "      <th>2</th>\n",
       "      <td>Other live animals</td>\n",
       "      <td>Agriculture</td>\n",
       "      <td>2436228</td>\n",
       "      <td>Estados Unidos</td>\n",
       "    </tr>\n",
       "    <tr>\n",
       "      <th>3</th>\n",
       "      <td>Beef</td>\n",
       "      <td>Agriculture</td>\n",
       "      <td>967012992</td>\n",
       "      <td>Estados Unidos</td>\n",
       "    </tr>\n",
       "    <tr>\n",
       "      <th>4</th>\n",
       "      <td>Beef (frozen)</td>\n",
       "      <td>Agriculture</td>\n",
       "      <td>73642356</td>\n",
       "      <td>Estados Unidos</td>\n",
       "    </tr>\n",
       "    <tr>\n",
       "      <th>5</th>\n",
       "      <td>Pork</td>\n",
       "      <td>Agriculture</td>\n",
       "      <td>63372027</td>\n",
       "      <td>Estados Unidos</td>\n",
       "    </tr>\n",
       "    <tr>\n",
       "      <th>6</th>\n",
       "      <td>Lamb</td>\n",
       "      <td>Agriculture</td>\n",
       "      <td>2247237</td>\n",
       "      <td>Estados Unidos</td>\n",
       "    </tr>\n",
       "    <tr>\n",
       "      <th>7</th>\n",
       "      <td>Edible offal</td>\n",
       "      <td>Agriculture</td>\n",
       "      <td>47958904</td>\n",
       "      <td>Estados Unidos</td>\n",
       "    </tr>\n",
       "    <tr>\n",
       "      <th>8</th>\n",
       "      <td>Preserved meat</td>\n",
       "      <td>Agriculture</td>\n",
       "      <td>38228</td>\n",
       "      <td>Estados Unidos</td>\n",
       "    </tr>\n",
       "    <tr>\n",
       "      <th>9</th>\n",
       "      <td>Live Fish</td>\n",
       "      <td>Agriculture</td>\n",
       "      <td>205541</td>\n",
       "      <td>Estados Unidos</td>\n",
       "    </tr>\n",
       "  </tbody>\n",
       "</table>\n",
       "</div>"
      ],
      "text/plain": [
       "             Material       Sector  Monto_Exportacion            Pais\n",
       "0              Horses  Agriculture           12961946  Estados Unidos\n",
       "1              Bovine  Agriculture          794762187  Estados Unidos\n",
       "2  Other live animals  Agriculture            2436228  Estados Unidos\n",
       "3                Beef  Agriculture          967012992  Estados Unidos\n",
       "4       Beef (frozen)  Agriculture           73642356  Estados Unidos\n",
       "5                Pork  Agriculture           63372027  Estados Unidos\n",
       "6                Lamb  Agriculture            2247237  Estados Unidos\n",
       "7        Edible offal  Agriculture           47958904  Estados Unidos\n",
       "8      Preserved meat  Agriculture              38228  Estados Unidos\n",
       "9           Live Fish  Agriculture             205541  Estados Unidos"
      ]
     },
     "execution_count": 18,
     "metadata": {},
     "output_type": "execute_result"
    }
   ],
   "source": [
    "exportaciones=df\n",
    "exportaciones.head(10)"
   ]
  },
  {
   "cell_type": "markdown",
   "id": "78367e31",
   "metadata": {},
   "source": [
    "#### 3. Mostramos en un grafico de barras con la variable sector"
   ]
  },
  {
   "cell_type": "code",
   "execution_count": 19,
   "id": "9cac0031",
   "metadata": {},
   "outputs": [
    {
     "data": {
      "text/plain": [
       "<Axes: xlabel='Sector', ylabel='count'>"
      ]
     },
     "execution_count": 19,
     "metadata": {},
     "output_type": "execute_result"
    },
    {
     "data": {
      "image/png": "[encoded data removed]",
      "text/plain": [
       "<Figure size 640x480 with 1 Axes>"
      ]
     },
     "metadata": {},
     "output_type": "display_data"
    }
   ],
   "source": [
    "import seaborn as sns\n",
    "\n",
    "sns.countplot(x='Sector', data=exportaciones, palette='ocean')"
   ]
  },
  {
   "cell_type": "code",
   "execution_count": null,
   "id": "97bc9d9d",
   "metadata": {},
   "outputs": [],
   "source": []
  }
 ],
 "metadata": {
  "kernelspec": {
   "display_name": "Python 3 (ipykernel)",
   "language": "python",
   "name": "python3"
  },
  "language_info": {
   "codemirror_mode": {
    "name": "ipython",
    "version": 3
   },
   "file_extension": ".py",
   "mimetype": "text/x-python",
   "name": "python",
   "nbconvert_exporter": "python",
   "pygments_lexer": "ipython3",
   "version": "3.9.16"
  }
 },
 "nbformat": 4,
 "nbformat_minor": 5
}
